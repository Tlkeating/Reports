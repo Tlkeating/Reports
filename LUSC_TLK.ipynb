{
 "cells": [
  {
   "cell_type": "markdown",
   "id": "ecef6328-c82e-4d3c-8877-455ec4f0437a",
   "metadata": {},
   "source": [
    "# Data storytelling (technical audience)"
   ]
  },
  {
   "cell_type": "markdown",
   "id": "745af117-8e60-4380-a2f1-6927f56d5697",
   "metadata": {},
   "source": [
    "## Gene Expression database mining"
   ]
  },
  {
   "cell_type": "markdown",
   "id": "ea86adf4-2965-4265-be45-e924a703e641",
   "metadata": {},
   "source": [
    "### Part 1. Introduction and goals"
   ]
  },
  {
   "cell_type": "raw",
   "id": "a451732b-378a-44e3-bf24-7f6b20caf7f8",
   "metadata": {},
   "source": [
    "Can we detect cancer with a simple blood test?  Can we discover new treatment targets with expression arrays?  Over the last 15 years a great deal of research has been devoted to answering these questions. In this paper we explore and assess a gene expression dataset to discover what patterns are present and how they might be usefully interpreted.\n",
    "\n",
    "This dataset is the 'TCGA - LUSC (Lung Cell Squamous Carcinoma)' Expression Profiling by Array Dataset and is publicly available at https://portal.gdc.cancer.gov/. The data is normalized by TPM (transcripts per kilobase million) to make it interpretable across the samples but needs further processing.\n",
    "\n",
    "Lung cancer is one of the deadliest cancers in the world and LUSC is the one of the most common subtypes of lung cancer. The microarray measures the activity of genes in a sample by performing selective binding and measuring fluorescence of mRNA fragments (or gene 'transcripts': recall that DNA is transcribed into mRNA and released to the cytosome where it encounters ribosomes and is then translated into proteins). We expect to see both up- and down-regulation of genes in ways that differ between cancer and healthy samples.\n",
    "\n",
    "The dataset consist of 551 patients. Every patient has 56,907 different transcripts. This dataset is imbalanced, with 49 patients diagnosed as healthy and the rest having cancer (n=502).  Each gene is labeled but is not annotated to describe its function.\n",
    "\n",
    "Goals: compare expression levels in various ways between the normal and cancer groups (as a first step toward building a model).  Perform data cleanup and relevant pre-processing to check hypotheses.\n",
    "\n",
    "Hypotheses:  1) Genes involved in cancerous cell activity will have a higher variance than normal genes per the reference below. 2) Known oncogenes and tumor-suppressor genes should appear among other 'suspiciously' activated or deactivated genes.  3) Activation of gene networks (clusters) should appear based on various important biological functions.  \n",
    "\n",
    "References\n",
    "**PLoS Genet. 2011 Aug; 7(8): e1002207.\n",
    "Published online 2011 Aug 11. doi: 10.1371/journal.pgen.1002207\n",
    "PMCID: PMC3154954\n",
    "PMID: 21852951\n",
    "Variance of Gene Expression Identifies Altered Network Constraints in Neurological Disease\n",
    "\n",
    "Implications of applied research for prognosis and therapy of breast cancer\n",
    "M.F. Barginear, ... D.R. Budman, in \n",
    "Critical Reviews in Oncology/Hematology\n",
    ", 2008  chapter 3.1 Microarray analysis"
   ]
  },
  {
   "cell_type": "markdown",
   "id": "7bde95d8-1e26-4d82-a983-3445f0bc893d",
   "metadata": {},
   "source": [
    "## Data import and cleanup"
   ]
  },
  {
   "cell_type": "raw",
   "id": "0723a73f-2edb-4b1b-b936-94b3b14a908f",
   "metadata": {},
   "source": [
    "The dataset has mixed datatypes, uses a combination of delimiters and has headers that mask patient ID:"
   ]
  },
  {
   "cell_type": "code",
   "execution_count": 120,
   "id": "71adc556-eeaa-40ef-aeb1-8241174c753f",
   "metadata": {},
   "outputs": [
    {
     "name": "stderr",
     "output_type": "stream",
     "text": [
      "C:\\Users\\Owner\\AppData\\Local\\Temp\\ipykernel_25584\\2329184582.py:3: DtypeWarning: Columns (1,2,3,4,5,6,7,8,9,10,11,12,13,14,15,16,17,18,19,20,21,22,23,24,25,26,27,28,29,30,31,32,33,34,35,36,37,38,39,40,41,42,43,44,45,46,47,48,49,50,51,52,53,54,55,56,57,58,59,60,61,62,63,64,65,66,67,68,69,70,71,72,73,74,75,76,77,78,79,80,81,82,83,84,85,86,87,88,89,90,91,92,93,94,95,96,97,98,99,100,101,102,103,104,105,106,107,108,109,110,111,112,113,114,115,116,117,118,119,120,121,122,123,124,125,126,127,128,129,130,131,132,133,134,135,136,137,138,139,140,141,142,143,144,145,146,147,148,149,150,151,152,153,154,155,156,157,158,159,160,161,162,163,164,165,166,167,168,169,170,171,172,173,174,175,176,177,178,179,180,181,182,183,184,185,186,187,188,189,190,191,192,193,194,195,196,197,198,199,200,201,202,203,204,205,206,207,208,209,210,211,212,213,214,215,216,217,218,219,220,221,222,223,224,225,226,227,228,229,230,231,232,233,234,235,236,237,238,239,240,241,242,243,244,245,246,247,248,249,250,251,252,253,254,255,256,257,258,259,260,261,262,263,264,265,266,267,268,269,270,271,272,273,274,275,276,277,278,279,280,281,282,283,284,285,286,287,288,289,290,291,292,293,294,295,296,297,298,299,300,301,302,303,304,305,306,307,308,309,310,311,312,313,314,315,316,317,318,319,320,321,322,323,324,325,326,327,328,329,330,331,332,333,334,335,336,337,338,339,340,341,342,343,344,345,346,347,348,349,350,351,352,353,354,355,356,357,358,359,360,361,362,363,364,365,366,367,368,369,370,371,372,373,374,375,376,377,378,379,380,381,382,383,384,385,386,387,388,389,390,391,392,393,394,395,396,397,398,399,400,401,402,403,404,405,406,407,408,409,410,411,412,413,414,415,416,417,418,419,420,421,422,423,424,425,426,427,428,429,430,431,432,433,434,435,436,437,438,439,440,441,442,443,444,445,446,447,448,449,450,451,452,453,454,455,456,457,458,459,460,461,462,463,464,465,466,467,468,469,470,471,472,473,474,475,476,477,478,479,480,481,482,483,484,485,486,487,488,489,490,491,492,493,494,495,496,497,498,499,500,501,502,503,504,505,506,507,508,509,510,511,512,513,514,515,516,517,518,519,520,521,522,523,524,525,526,527,528,529,530,531,532,533,534,535,536,537,538,539,540,541,542,543,544,545,546,547,548,549,550,551) have mixed types. Specify dtype option on import or set low_memory=False.\n",
      "  df = pd.read_csv('LUSCexpfile.csv', sep = ';')  #note the messy delimiter use and the ugly headers--codes to mask patient ID\n"
     ]
    },
    {
     "name": "stdout",
     "output_type": "stream",
     "text": [
      "  Unnamed: 0 03611591-08da-45c5-bfe5-ce511a2cc341  \\\n",
      "0        NaN                               normal   \n",
      "1       A1BG                          0.108403483   \n",
      "2   A1BG-AS1                          1.187325638   \n",
      "3       A1CF                          0.001370356   \n",
      "4        A2M                          459.7836081   \n",
      "\n",
      "  045e2535-012c-4cec-b386-9d6f62b91829 118933b6-86c7-4668-9973-424ece352a60  \\\n",
      "0                               normal                               normal   \n",
      "1                          0.095187869                          0.097042537   \n",
      "2                          0.594016407                          1.012277195   \n",
      "3                          0.032045614                                    0   \n",
      "4                          648.0057316                          444.8724975   \n",
      "\n",
      "  153cb1b1-774c-4e65-b209-6a462b68cfc5  ...  \\\n",
      "0                               normal  ...   \n",
      "1                           0.04302861  ...   \n",
      "2                          1.015939279  ...   \n",
      "3                                    0  ...   \n",
      "4                          751.7312734  ...   \n",
      "\n",
      "  feb82116-b8c0-41e6-9afd-43cc6f6c0d62 ff47bedc-e4c7-4775-8e8e-ed4d2eecda83  \\\n",
      "0                                tumor                                tumor   \n",
      "1                          0.072578267                          0.210407375   \n",
      "2                          1.145089115                          1.354173806   \n",
      "3                           0.00137622                          0.002250611   \n",
      "4                          53.39539897                          22.30662803   \n",
      "\n",
      "  ff915b5b-98f0-4cd9-8afc-90bc16529cd8 ffae8b64-70e0-4d15-819f-7d8dd0a51db0  \\\n",
      "0                                tumor                                tumor   \n",
      "1                          0.129361336                          0.067741511   \n",
      "2                          1.128719724                          0.394044479   \n",
      "3                          0.004497045                          0.004709856   \n",
      "4                          17.18205196                           120.810731   \n",
      "\n",
      "  ffb473b7-a5cf-4607-b97c-fc78b4719ccb  \n",
      "0                                tumor  \n",
      "1                          0.017848088  \n",
      "2                          0.187729763  \n",
      "3                          0.003722766  \n",
      "4                          57.23277815  \n",
      "\n",
      "[5 rows x 552 columns]\n"
     ]
    }
   ],
   "source": [
    "import pandas as pd\n",
    "import numpy as np\n",
    "import matplotlib.pyplot as plt\n",
    "import seaborn as sns\n",
    "df = pd.read_csv('LUSCexpfile.csv', sep = ';') \n",
    "print(df.head())"
   ]
  },
  {
   "cell_type": "raw",
   "id": "a6161dc8-e090-4144-b2e1-3f5dd93ab7ce",
   "metadata": {},
   "source": [
    "First let's remove the patient identifiers, and temporarily replace with just a number."
   ]
  },
  {
   "cell_type": "code",
   "execution_count": 121,
   "id": "90d954ca-6af3-4889-90c2-67426e78e444",
   "metadata": {},
   "outputs": [],
   "source": [
    "df.columns = np.arange(len(df.columns)) "
   ]
  },
  {
   "cell_type": "code",
   "execution_count": 122,
   "id": "784c7488-799b-4c47-8538-8503bc3c68f1",
   "metadata": {},
   "outputs": [
    {
     "name": "stdout",
     "output_type": "stream",
     "text": [
      "        0            1            2            3            4    ...  \\\n",
      "0       NaN       normal       normal       normal       normal  ...   \n",
      "1      A1BG  0.108403483  0.095187869  0.097042537   0.04302861  ...   \n",
      "2  A1BG-AS1  1.187325638  0.594016407  1.012277195  1.015939279  ...   \n",
      "3      A1CF  0.001370356  0.032045614            0            0  ...   \n",
      "4       A2M  459.7836081  648.0057316  444.8724975  751.7312734  ...   \n",
      "\n",
      "           547          548          549          550          551  \n",
      "0        tumor        tumor        tumor        tumor        tumor  \n",
      "1  0.072578267  0.210407375  0.129361336  0.067741511  0.017848088  \n",
      "2  1.145089115  1.354173806  1.128719724  0.394044479  0.187729763  \n",
      "3   0.00137622  0.002250611  0.004497045  0.004709856  0.003722766  \n",
      "4  53.39539897  22.30662803  17.18205196   120.810731  57.23277815  \n",
      "\n",
      "[5 rows x 552 columns]\n"
     ]
    }
   ],
   "source": [
    "print(df.head())"
   ]
  },
  {
   "cell_type": "raw",
   "id": "2c2f1bd7-6c40-42c0-b589-05b2d447679e",
   "metadata": {},
   "source": [
    "The data would look nicer transposed:"
   ]
  },
  {
   "cell_type": "code",
   "execution_count": 177,
   "id": "51912ca8-9637-4e31-876d-b7906063c1dd",
   "metadata": {},
   "outputs": [
    {
     "name": "stdout",
     "output_type": "stream",
     "text": [
      "        0            1      ...  56906     56907\n",
      "0  SampleType         A1BG  ...  ZYXP1     ZZEF1\n",
      "1      normal  0.108403483  ...    0.0  4.552543\n",
      "2      normal  0.095187869  ...    0.0  5.626856\n",
      "3      normal  0.097042537  ...    0.0  2.309259\n",
      "4      normal   0.04302861  ...    0.0  5.302771\n",
      "\n",
      "[5 rows x 56908 columns]\n"
     ]
    }
   ],
   "source": [
    "df2 = df.T\n",
    "print(df2.head())"
   ]
  },
  {
   "cell_type": "code",
   "execution_count": 124,
   "id": "cbabfbfa-bbb8-4425-b49c-6822945f42cf",
   "metadata": {},
   "outputs": [
    {
     "name": "stdout",
     "output_type": "stream",
     "text": [
      "        0            1            2            3            4      ...  \\\n",
      "0  SampleType         A1BG     A1BG-AS1         A1CF          A2M  ...   \n",
      "1      normal  0.108403483  1.187325638  0.001370356  459.7836081  ...   \n",
      "2      normal  0.095187869  0.594016407  0.032045614  648.0057316  ...   \n",
      "3      normal  0.097042537  1.012277195            0  444.8724975  ...   \n",
      "4      normal   0.04302861  1.015939279            0  751.7312734  ...   \n",
      "\n",
      "      56903     56904      56905  56906     56907  \n",
      "0  ZYG11AP1    ZYG11B        ZYX  ZYXP1     ZZEF1  \n",
      "1       0.0  4.194418  99.369159    0.0  4.552543  \n",
      "2       0.0  4.662835  98.084795    0.0  5.626856  \n",
      "3       0.0  4.619178  54.605189    0.0  2.309259  \n",
      "4       0.0  4.814995  86.273891    0.0  5.302771  \n",
      "\n",
      "[5 rows x 56908 columns]\n"
     ]
    }
   ],
   "source": [
    "df2.loc[0, 0] = 'SampleType'\n",
    "print(df2.head())"
   ]
  },
  {
   "cell_type": "raw",
   "id": "95db70a1-a974-4ac4-99d9-bf23b7960411",
   "metadata": {},
   "source": [
    "Fix the column headers by removing the index numbers from earlier."
   ]
  },
  {
   "cell_type": "code",
   "execution_count": 125,
   "id": "23ecbb0a-11a0-4642-9cf7-fe44117ca3c8",
   "metadata": {},
   "outputs": [
    {
     "name": "stdout",
     "output_type": "stream",
     "text": [
      "0 SampleType         A1BG     A1BG-AS1         A1CF          A2M  ...  \\\n",
      "1     normal  0.108403483  1.187325638  0.001370356  459.7836081  ...   \n",
      "2     normal  0.095187869  0.594016407  0.032045614  648.0057316  ...   \n",
      "3     normal  0.097042537  1.012277195            0  444.8724975  ...   \n",
      "4     normal   0.04302861  1.015939279            0  751.7312734  ...   \n",
      "5     normal  0.095016254  1.174120262            0  1385.150034  ...   \n",
      "\n",
      "0 ZYG11AP1    ZYG11B        ZYX ZYXP1     ZZEF1  \n",
      "1      0.0  4.194418  99.369159   0.0  4.552543  \n",
      "2      0.0  4.662835  98.084795   0.0  5.626856  \n",
      "3      0.0  4.619178  54.605189   0.0  2.309259  \n",
      "4      0.0  4.814995  86.273891   0.0  5.302771  \n",
      "5      0.0  5.432338  93.666207   0.0  5.399341  \n",
      "\n",
      "[5 rows x 56908 columns]\n"
     ]
    }
   ],
   "source": [
    "df2.columns = df2.iloc[0]\n",
    "\n",
    "#remove first row from DataFrame\n",
    "df2 = df2[1:]\n",
    "\n",
    "#view updated DataFrame\n",
    "print(df2.head())"
   ]
  },
  {
   "cell_type": "code",
   "execution_count": 126,
   "id": "85e80a08-0a0c-4ec4-88f6-8838157ba0d8",
   "metadata": {},
   "outputs": [
    {
     "name": "stdout",
     "output_type": "stream",
     "text": [
      "0\n",
      "SampleType    object\n",
      "A1BG          object\n",
      "A1BG-AS1      object\n",
      "A1CF          object\n",
      "A2M           object\n",
      "               ...  \n",
      "ZYG11AP1      object\n",
      "ZYG11B        object\n",
      "ZYX           object\n",
      "ZYXP1         object\n",
      "ZZEF1         object\n",
      "Length: 56908, dtype: object\n"
     ]
    }
   ],
   "source": [
    "print(df2.dtypes)  "
   ]
  },
  {
   "cell_type": "raw",
   "id": "2f76571c-4abc-49d6-a499-253053fc55fd",
   "metadata": {},
   "source": [
    "This is a problem: ALL but the 'sampletype' column must be changed into floats otherwise it will create problems down the line."
   ]
  },
  {
   "cell_type": "markdown",
   "id": "3193d048-9615-4bee-8f38-d91e8f698674",
   "metadata": {},
   "source": [
    "### Fix data type problems:"
   ]
  },
  {
   "cell_type": "code",
   "execution_count": 139,
   "id": "db9ae069-72ac-4ab4-9730-a266f7248e47",
   "metadata": {},
   "outputs": [
    {
     "name": "stdout",
     "output_type": "stream",
     "text": [
      "0   SampleType      A1BG  ...  ZYXP1     ZZEF1\n",
      "1          0.0  0.108403  ...    0.0  4.552543\n",
      "2          0.0  0.095188  ...    0.0  5.626856\n",
      "3          0.0  0.097043  ...    0.0  2.309259\n",
      "4          0.0  0.043029  ...    0.0  5.302771\n",
      "5          0.0  0.095016  ...    0.0  5.399341\n",
      "6          0.0  0.184692  ...    0.0  5.538256\n",
      "7          0.0  0.049554  ...    0.0  4.099797\n",
      "8          0.0  0.084046  ...    0.0   4.20028\n",
      "9          0.0  0.055256  ...    0.0  6.300417\n",
      "10         0.0  0.118800  ...    0.0  6.482868\n",
      "11         0.0  0.233580  ...    0.0  6.754923\n",
      "12         0.0  0.074725  ...    0.0  5.522444\n",
      "13         0.0  0.088148  ...    0.0  3.728021\n",
      "14         0.0  0.082128  ...    0.0  5.299801\n",
      "15         0.0  0.092216  ...    0.0  5.676879\n",
      "16         0.0  0.194815  ...    0.0  5.329231\n",
      "17         0.0  0.123646  ...    0.0  2.989586\n",
      "18         0.0  0.079962  ...    0.0  4.132045\n",
      "19         0.0  0.050851  ...    0.0  2.772167\n",
      "20         0.0  0.101452  ...    0.0  3.921015\n",
      "21         0.0  0.056326  ...    0.0  3.975357\n",
      "22         0.0  0.069485  ...    0.0  4.661956\n",
      "23         0.0  0.098390  ...    0.0  6.496785\n",
      "24         0.0  0.069580  ...    0.0  6.857431\n",
      "25         0.0  0.089047  ...    0.0  5.279625\n",
      "26         0.0  0.105123  ...    0.0  3.367435\n",
      "27         0.0  0.035379  ...    0.0  1.614139\n",
      "28         0.0  0.056346  ...    0.0  4.809728\n",
      "29         0.0  0.187807  ...    0.0  5.698429\n",
      "30         0.0  0.048419  ...    0.0   6.71807\n",
      "31         0.0  0.061162  ...    0.0  4.347742\n",
      "32         0.0  0.125192  ...    0.0  5.475218\n",
      "33         0.0  0.128484  ...    0.0  5.534719\n",
      "34         0.0  0.041031  ...    0.0  6.483832\n",
      "35         0.0  0.036434  ...    0.0  5.775499\n",
      "36         0.0  0.007939  ...    0.0  3.218736\n",
      "37         0.0  0.056021  ...    0.0  6.140181\n",
      "38         0.0  0.062016  ...    0.0  5.223354\n",
      "39         0.0  0.091721  ...    0.0   4.55107\n",
      "40         0.0  0.242162  ...    0.0  3.864395\n",
      "41         0.0  0.084442  ...    0.0  6.661527\n",
      "42         0.0  0.088421  ...    0.0   5.45975\n",
      "43         0.0  0.084500  ...    0.0  7.024706\n",
      "44         0.0  0.110154  ...    0.0  4.859087\n",
      "45         0.0  0.055694  ...    0.0  3.199447\n",
      "46         0.0  0.038846  ...    0.0  5.104024\n",
      "47         0.0  0.074626  ...    0.0  5.228844\n",
      "48         0.0  0.069899  ...    0.0   5.07904\n",
      "49         0.0  0.071825  ...    0.0  3.848969\n",
      "50         1.0  0.064199  ...    0.0   1.50634\n",
      "\n",
      "[50 rows x 56908 columns]\n"
     ]
    }
   ],
   "source": [
    "df2['SampleType'] = df2['SampleType'].map({'normal': 0.0, 'tumor': 1.0}) #temporarily removing the string values\n",
    "pd.options.display.max_columns = 5\n",
    "print(df2.head(50))"
   ]
  },
  {
   "cell_type": "raw",
   "id": "5c18388b-40c6-423b-8d3b-ace10578f6ae",
   "metadata": {},
   "source": [
    "Now convert the datatypes:"
   ]
  },
  {
   "cell_type": "code",
   "execution_count": 141,
   "id": "3b41dca1-22ec-4348-801f-70db09016208",
   "metadata": {},
   "outputs": [
    {
     "name": "stdout",
     "output_type": "stream",
     "text": [
      "0\n",
      "SampleType      Int64\n",
      "A1BG          Float64\n",
      "A1BG-AS1      Float64\n",
      "A1CF          Float64\n",
      "A2M           Float64\n",
      "               ...   \n",
      "ZYG11AP1      Float64\n",
      "ZYG11B        Float64\n",
      "ZYX           Float64\n",
      "ZYXP1         Float64\n",
      "ZZEF1         Float64\n",
      "Length: 56908, dtype: object\n"
     ]
    }
   ],
   "source": [
    "df3=df2.convert_dtypes()\n",
    "print(df3.dtypes)"
   ]
  },
  {
   "cell_type": "markdown",
   "id": "3efac1ca-2b90-4410-b13b-02c91e8ae0fc",
   "metadata": {},
   "source": [
    "### Initial data exploration"
   ]
  },
  {
   "cell_type": "raw",
   "id": "951f5ddf-2cee-4866-8715-3059572e2beb",
   "metadata": {},
   "source": [
    "The data should be separated into groups (normal and cancer) before running summary stats.\n",
    "However--it's important to take a look at the data.  It was 'normalized', but how?  Expression data can vary by orders of magnitude,\n",
    "and it's conventional to take the log based 2 in order to arrive at data that's closer to normally distributed.  Did the owners of the dataset do this already or not?"
   ]
  },
  {
   "cell_type": "code",
   "execution_count": 191,
   "id": "cb41e011-732c-4c1b-91ba-e09f57961137",
   "metadata": {},
   "outputs": [
    {
     "data": {
      "image/png": "[encoded data removed]",
      "text/plain": [
       "<Figure size 640x480 with 1 Axes>"
      ]
     },
     "metadata": {},
     "output_type": "display_data"
    }
   ],
   "source": [
    "import seaborn as sns\n",
    "# Here I could also plot a histogram but these are nicer...!\n",
    "sns.kdeplot(data=df3, x='A1BG', hue=\"SampleType\", fill=True, common_norm=False, alpha=1)\n",
    "plt.show()\n"
   ]
  },
  {
   "cell_type": "raw",
   "id": "efbdb31d-6da2-4d66-8153-eab607670f4c",
   "metadata": {},
   "source": [
    "Remember the kde will smooth things out, so we 'appear' to have negative values--but the overall variance doesn't *look* super large.  Let's be\n",
    "sure there aren't actual negative numbers in the data (or zeroes, which would be a clue they didn't do the log).\n",
    "\n",
    "Also don't forget: we hypothesized that the variance of the tumor gene expression levels would differ noticeably...!!!"
   ]
  },
  {
   "cell_type": "code",
   "execution_count": 192,
   "id": "3aeaa51e-3855-4ffb-8822-6d48f936f1b6",
   "metadata": {},
   "outputs": [
    {
     "name": "stdout",
     "output_type": "stream",
     "text": [
      "0.0\n"
     ]
    }
   ],
   "source": [
    "print(df3['A1BG'].min())"
   ]
  },
  {
   "cell_type": "code",
   "execution_count": 194,
   "id": "ce1c9782-a302-4e6f-9a39-a9084fe798bc",
   "metadata": {},
   "outputs": [
    {
     "name": "stdout",
     "output_type": "stream",
     "text": [
      "252         0.0\n",
      "500         0.0\n",
      "432    0.004394\n",
      "440    0.005298\n",
      "447    0.007775\n",
      "         ...   \n",
      "386     0.42588\n",
      "316    0.443253\n",
      "215    0.477096\n",
      "360    0.505444\n",
      "424    0.518196\n",
      "Name: A1BG, Length: 551, dtype: Float64\n"
     ]
    }
   ],
   "source": [
    "print(df3['A1BG'].sort_values())"
   ]
  },
  {
   "cell_type": "raw",
   "id": "0848a935-d190-4d48-93b3-621b68952cca",
   "metadata": {},
   "source": [
    "So it looks like we should take the log, though, we don't see huge (> 1 order of magnitude) intensity differences.  Let's try another gene."
   ]
  },
  {
   "cell_type": "code",
   "execution_count": 198,
   "id": "aeeb295c-e353-4cfb-90ae-921daf64eb74",
   "metadata": {},
   "outputs": [
    {
     "data": {
      "image/png": "[encoded data removed]",
      "text/plain": [
       "<Figure size 640x480 with 1 Axes>"
      ]
     },
     "metadata": {},
     "output_type": "display_data"
    }
   ],
   "source": [
    "sns.kdeplot(data=df3, x='AAGAB', hue=\"SampleType\", fill=True, common_norm=False, alpha=1)\n",
    "plt.show()"
   ]
  },
  {
   "cell_type": "raw",
   "id": "a137c791-15ad-45ed-9159-877f10251349",
   "metadata": {},
   "source": [
    "(Full disclosure: I have cheated a little bit here by looking ahead at genes where the std differs markedly, in this case, by a factor of 3.  For some it is far worse:)"
   ]
  },
  {
   "cell_type": "code",
   "execution_count": 199,
   "id": "45cf0b06-02be-47f5-98b6-3bb59a413d12",
   "metadata": {},
   "outputs": [
    {
     "data": {
      "image/png": "[encoded data removed]",
      "text/plain": [
       "<Figure size 640x480 with 1 Axes>"
      ]
     },
     "metadata": {},
     "output_type": "display_data"
    }
   ],
   "source": [
    "sns.kdeplot(data=df3, x='GCG', hue=\"SampleType\", fill=True, common_norm=False, alpha=1)\n",
    "plt.show()"
   ]
  },
  {
   "cell_type": "markdown",
   "id": "3275a281-1d07-4ad7-8526-9f7d56dee905",
   "metadata": {},
   "source": [
    "## Normalization discussion"
   ]
  },
  {
   "cell_type": "raw",
   "id": "efcc31db-5b3e-49a4-a148-27dc57a08cfe",
   "metadata": {},
   "source": [
    "When examining genes with high relative std between normal and cancer, there may be over an order of magnitude difference in expression to deal with.\n",
    "Thus for the next rounds of analysis, I will take log based 2 of the expression intensities and deal with zeroes based on two choices:\n",
    "The first approach is to *discard* zeroes (I don't like this much but it's pretty safe; I may come back to it).  The second approach is to add a tiny number, say, .000001 to all the data.  It won't do much at all to shift the mean and certainly doesn't harm std, and may be more informative than throwing away the zero data points.  (This is what most differential sequencing algorithms do anyway)."
   ]
  },
  {
   "cell_type": "code",
   "execution_count": 200,
   "id": "f2fff725-c7ca-4866-9728-ac58661700ba",
   "metadata": {},
   "outputs": [
    {
     "name": "stdout",
     "output_type": "stream",
     "text": [
      "0  SampleType      A1BG  ...     ZYXP1     ZZEF1\n",
      "1   -3.321928 -2.262549  ... -3.321928  2.218019\n",
      "2   -3.321928 -2.357065  ... -3.321928  2.517743\n",
      "3   -3.321928 -2.343421  ... -3.321928   1.26859\n",
      "4   -3.321928 -2.805624  ... -3.321928  2.433699\n",
      "5   -3.321928 -2.358334  ... -3.321928  2.459259\n",
      "\n",
      "[5 rows x 56908 columns]\n"
     ]
    }
   ],
   "source": [
    "df4 = df3.add(1e-1) #I will go back and fix the first column later\n",
    "logdf = np.log2(df4) \n",
    "print(logdf.head())"
   ]
  },
  {
   "cell_type": "code",
   "execution_count": 201,
   "id": "4beb6242-8114-4328-9ae8-eee0b759567b",
   "metadata": {},
   "outputs": [
    {
     "name": "stdout",
     "output_type": "stream",
     "text": [
      "0  SampleType      A1BG  ...     ZYXP1     ZZEF1\n",
      "1           0 -2.262549  ... -3.321928  2.218019\n",
      "2           0 -2.357065  ... -3.321928  2.517743\n",
      "3           0 -2.343421  ... -3.321928   1.26859\n",
      "4           0 -2.805624  ... -3.321928  2.433699\n",
      "5           0 -2.358334  ... -3.321928  2.459259\n",
      "\n",
      "[5 rows x 56908 columns]\n"
     ]
    }
   ],
   "source": [
    "logdf['SampleType']=df3['SampleType']\n",
    "print(logdf.head())"
   ]
  },
  {
   "cell_type": "raw",
   "id": "35cdacf5-021e-47f5-9c20-36c8f4ffab80",
   "metadata": {},
   "source": [
    "Now to proceed with grouping and taking mean and std:"
   ]
  },
  {
   "cell_type": "code",
   "execution_count": 202,
   "id": "efdf1520-96ac-4c00-8483-776e8dadc416",
   "metadata": {},
   "outputs": [
    {
     "name": "stdout",
     "output_type": "stream",
     "text": [
      "0               A1BG  A1BG-AS1  ...     ZYXP1     ZZEF1\n",
      "SampleType                      ...                    \n",
      "0          -2.438014 -0.016994  ... -3.321928  2.282536\n",
      "1          -2.381063 -0.392295  ... -3.313573  1.564559\n",
      "\n",
      "[2 rows x 56907 columns]\n"
     ]
    }
   ],
   "source": [
    "grouped = logdf.groupby('SampleType')\n",
    "avg_exp = grouped.mean()\n",
    "pd.options.display.max_columns = 5\n",
    "print(avg_exp)"
   ]
  },
  {
   "cell_type": "code",
   "execution_count": 203,
   "id": "d0c43d04-e92f-46df-ae26-02ca3c5ee925",
   "metadata": {},
   "outputs": [
    {
     "name": "stdout",
     "output_type": "stream",
     "text": [
      "0               A1BG  A1BG-AS1  ...     ZYXP1     ZZEF1\n",
      "SampleType                      ...                    \n",
      "0             0.3354  0.475384  ...       0.0  0.421173\n",
      "1           0.528722   0.90964  ...  0.187193  0.636457\n",
      "\n",
      "[2 rows x 56907 columns]\n"
     ]
    }
   ],
   "source": [
    "std_exp = grouped.std()\n",
    "pd.options.display.max_columns = 5\n",
    "print(std_exp)"
   ]
  },
  {
   "cell_type": "code",
   "execution_count": 204,
   "id": "13d6704f-04b4-4b85-9c24-12ba9eaff484",
   "metadata": {},
   "outputs": [
    {
     "name": "stdout",
     "output_type": "stream",
     "text": [
      "0               A1BG  A1BG-AS1  ...     ZYXP1     ZZEF1\n",
      "SampleType                      ...                    \n",
      "0          -2.438014 -0.016994  ... -3.321928  2.282536\n",
      "1          -2.381063 -0.392295  ... -3.313573  1.564559\n",
      "0             0.3354  0.475384  ...       0.0  0.421173\n",
      "1           0.528722   0.90964  ...  0.187193  0.636457\n",
      "\n",
      "[4 rows x 56907 columns]\n"
     ]
    }
   ],
   "source": [
    "exp_stats = pd.concat([avg_exp, std_exp], axis=0)   #there might be more elegant ways to do this, but this worked easily\n",
    "pd.options.display.max_columns = 5\n",
    "print(exp_stats)"
   ]
  },
  {
   "cell_type": "code",
   "execution_count": 205,
   "id": "314672dd-1524-4518-bb11-260d2fb0436b",
   "metadata": {},
   "outputs": [
    {
     "name": "stdout",
     "output_type": "stream",
     "text": [
      "SampleType         0         1         0         1\n",
      "0                                                 \n",
      "A1BG       -2.438014 -2.381063    0.3354  0.528722\n",
      "A1BG-AS1   -0.016994 -0.392295  0.475384   0.90964\n",
      "A1CF       -3.283804 -3.219717  0.063599  0.395336\n",
      "A2M         9.507198  5.750409  0.559586  1.278331\n",
      "A2M-AS1     -0.13921 -0.619217  0.366558  0.763418\n"
     ]
    }
   ],
   "source": [
    "#Beautiful! Now I'd like to transpose and then compare and sort based on std\n",
    "finaldf = exp_stats.T\n",
    "print(finaldf.head())"
   ]
  },
  {
   "cell_type": "code",
   "execution_count": 206,
   "id": "1a01f9c5-95e6-4f2b-959f-5d09810e8abf",
   "metadata": {},
   "outputs": [
    {
     "name": "stdout",
     "output_type": "stream",
     "text": [
      "          Norm_mean  Tumor_mean  Norm_std  Tumor_std\n",
      "0                                                   \n",
      "A1BG      -2.438014   -2.381063    0.3354   0.528722\n",
      "A1BG-AS1  -0.016994   -0.392295  0.475384    0.90964\n",
      "A1CF      -3.283804   -3.219717  0.063599   0.395336\n",
      "A2M        9.507198    5.750409  0.559586   1.278331\n",
      "A2M-AS1    -0.13921   -0.619217  0.366558   0.763418\n"
     ]
    }
   ],
   "source": [
    "#Let's rename columns now...\n",
    "new_col_names = ['Norm_mean', 'Tumor_mean', 'Norm_std','Tumor_std']\n",
    "finaldf.columns = new_col_names\n",
    "print(finaldf.head())"
   ]
  },
  {
   "cell_type": "markdown",
   "id": "fbb5e9ac-2248-455d-8868-0a3b7fcb76af",
   "metadata": {},
   "source": [
    "### Calculating ratios, filtering and sorting"
   ]
  },
  {
   "cell_type": "raw",
   "id": "633faf23-9ab4-4f92-a8c4-203470f42955",
   "metadata": {},
   "source": [
    "At this point I'd like to take the ratio of STDs (tumor/normal) and get a sorted list of genes"
   ]
  },
  {
   "cell_type": "code",
   "execution_count": 210,
   "id": "09057e77-2c0a-4e8c-9b87-7456f6f0cbab",
   "metadata": {},
   "outputs": [],
   "source": [
    "finaldf['stdratio'] = finaldf['Tumor_std']/finaldf['Norm_std']"
   ]
  },
  {
   "cell_type": "code",
   "execution_count": 211,
   "id": "52d7c002-9ed2-441d-a6d9-baf4b0b318ff",
   "metadata": {},
   "outputs": [
    {
     "name": "stdout",
     "output_type": "stream",
     "text": [
      "             Norm_mean  Tumor_mean  Norm_std  Tumor_std   stdratio\n",
      "0                                                                 \n",
      "A1BG         -2.438014   -2.381063    0.3354   0.528722   1.576396\n",
      "A1BG-AS1     -0.016994   -0.392295  0.475384    0.90964   1.913485\n",
      "A1CF         -3.283804   -3.219717  0.063599   0.395336   6.216121\n",
      "A2M           9.507198    5.750409  0.559586   1.278331   2.284421\n",
      "A2M-AS1       -0.13921   -0.619217  0.366558   0.763418   2.082663\n",
      "A2ML1        -2.864034    1.667725  0.622582   2.648917   4.254732\n",
      "A2ML1-AS1    -3.235595   -3.102354  0.209848   0.438377   2.089021\n",
      "A2ML1-AS2    -3.288062   -3.244717  0.141615   0.260805   1.841648\n",
      "A2MP1        -2.349154   -2.914269   0.39474   0.417908    1.05869\n",
      "A3GALT2      -2.754064   -2.811868  0.384974   0.542801   1.409968\n",
      "A4GALT         2.92462    4.091853  0.581119   1.337996   2.302447\n",
      "A4GNT        -2.277393    -2.76289  0.583637   0.630624   1.080507\n",
      "AAAS          2.734643    3.472376  0.249898   0.451334   1.806072\n",
      "AACS          0.829555    1.667134  0.243748   0.634866   2.604598\n",
      "AACSP1         -2.7874   -2.597014  0.437248   1.042384   2.383963\n",
      "AADAC         2.181907    1.167788  1.241773   2.198974   1.770835\n",
      "AADACL2      -3.027488   -2.194586  0.464545   1.333626   2.870819\n",
      "AADACL2-AS1  -2.039117   -1.357683   1.10977   1.538609   1.386421\n",
      "AADACL3      -3.319957   -3.266791  0.009654   0.291067  30.150577\n",
      "AADACL4      -3.249071   -3.263993  0.102022   0.255699   2.506314\n"
     ]
    }
   ],
   "source": [
    "print(finaldf.head(20))"
   ]
  },
  {
   "cell_type": "code",
   "execution_count": 215,
   "id": "053a6c9c-036e-492e-8f1a-5278e8d30886",
   "metadata": {},
   "outputs": [
    {
     "data": {
      "text/html": [
       "<div>\n",
       "<style scoped>\n",
       "    .dataframe tbody tr th:only-of-type {\n",
       "        vertical-align: middle;\n",
       "    }\n",
       "\n",
       "    .dataframe tbody tr th {\n",
       "        vertical-align: top;\n",
       "    }\n",
       "\n",
       "    .dataframe thead th {\n",
       "        text-align: right;\n",
       "    }\n",
       "</style>\n",
       "<table border=\"1\" class=\"dataframe\">\n",
       "  <thead>\n",
       "    <tr style=\"text-align: right;\">\n",
       "      <th></th>\n",
       "      <th>Norm_mean</th>\n",
       "      <th>Tumor_mean</th>\n",
       "      <th>Norm_std</th>\n",
       "      <th>Tumor_std</th>\n",
       "      <th>stdratio</th>\n",
       "    </tr>\n",
       "    <tr>\n",
       "      <th>0</th>\n",
       "      <th></th>\n",
       "      <th></th>\n",
       "      <th></th>\n",
       "      <th></th>\n",
       "      <th></th>\n",
       "    </tr>\n",
       "  </thead>\n",
       "  <tbody>\n",
       "    <tr>\n",
       "      <th>RF00322</th>\n",
       "      <td>-3.321928</td>\n",
       "      <td>-3.291704</td>\n",
       "      <td>0.0</td>\n",
       "      <td>0.251934</td>\n",
       "      <td>inf</td>\n",
       "    </tr>\n",
       "    <tr>\n",
       "      <th>AC244098.1</th>\n",
       "      <td>-3.321928</td>\n",
       "      <td>-3.307856</td>\n",
       "      <td>0.0</td>\n",
       "      <td>0.107374</td>\n",
       "      <td>inf</td>\n",
       "    </tr>\n",
       "    <tr>\n",
       "      <th>AC244098.2</th>\n",
       "      <td>-3.321928</td>\n",
       "      <td>-3.318746</td>\n",
       "      <td>0.0</td>\n",
       "      <td>0.071301</td>\n",
       "      <td>inf</td>\n",
       "    </tr>\n",
       "    <tr>\n",
       "      <th>RF00322</th>\n",
       "      <td>-3.321928</td>\n",
       "      <td>-3.309756</td>\n",
       "      <td>0.0</td>\n",
       "      <td>0.157456</td>\n",
       "      <td>inf</td>\n",
       "    </tr>\n",
       "    <tr>\n",
       "      <th>RF00322</th>\n",
       "      <td>-3.321928</td>\n",
       "      <td>-3.317218</td>\n",
       "      <td>0.0</td>\n",
       "      <td>0.105527</td>\n",
       "      <td>inf</td>\n",
       "    </tr>\n",
       "    <tr>\n",
       "      <th>AC245014.2</th>\n",
       "      <td>-3.321928</td>\n",
       "      <td>-3.316479</td>\n",
       "      <td>0.0</td>\n",
       "      <td>0.093602</td>\n",
       "      <td>inf</td>\n",
       "    </tr>\n",
       "    <tr>\n",
       "      <th>MIR8065</th>\n",
       "      <td>-3.321928</td>\n",
       "      <td>-3.312143</td>\n",
       "      <td>0.0</td>\n",
       "      <td>0.161781</td>\n",
       "      <td>inf</td>\n",
       "    </tr>\n",
       "    <tr>\n",
       "      <th>MIR8062</th>\n",
       "      <td>-3.321928</td>\n",
       "      <td>-3.315141</td>\n",
       "      <td>0.0</td>\n",
       "      <td>0.152072</td>\n",
       "      <td>inf</td>\n",
       "    </tr>\n",
       "    <tr>\n",
       "      <th>AC244102.1</th>\n",
       "      <td>-3.321928</td>\n",
       "      <td>-3.268155</td>\n",
       "      <td>0.0</td>\n",
       "      <td>0.171134</td>\n",
       "      <td>inf</td>\n",
       "    </tr>\n",
       "    <tr>\n",
       "      <th>RF00019</th>\n",
       "      <td>-3.321928</td>\n",
       "      <td>-3.314554</td>\n",
       "      <td>0.0</td>\n",
       "      <td>0.165215</td>\n",
       "      <td>inf</td>\n",
       "    </tr>\n",
       "    <tr>\n",
       "      <th>MIR8054</th>\n",
       "      <td>-3.321928</td>\n",
       "      <td>-3.313786</td>\n",
       "      <td>0.0</td>\n",
       "      <td>0.132384</td>\n",
       "      <td>inf</td>\n",
       "    </tr>\n",
       "    <tr>\n",
       "      <th>MIR7159</th>\n",
       "      <td>-3.321928</td>\n",
       "      <td>-3.30397</td>\n",
       "      <td>0.0</td>\n",
       "      <td>0.215168</td>\n",
       "      <td>inf</td>\n",
       "    </tr>\n",
       "    <tr>\n",
       "      <th>OR5BB1P</th>\n",
       "      <td>-3.321928</td>\n",
       "      <td>-3.311986</td>\n",
       "      <td>0.0</td>\n",
       "      <td>0.122772</td>\n",
       "      <td>inf</td>\n",
       "    </tr>\n",
       "    <tr>\n",
       "      <th>RNA5SP332</th>\n",
       "      <td>-3.321928</td>\n",
       "      <td>-3.298044</td>\n",
       "      <td>0.0</td>\n",
       "      <td>0.231514</td>\n",
       "      <td>inf</td>\n",
       "    </tr>\n",
       "    <tr>\n",
       "      <th>LIN28B-AS1</th>\n",
       "      <td>-3.321928</td>\n",
       "      <td>-3.24726</td>\n",
       "      <td>0.0</td>\n",
       "      <td>0.39591</td>\n",
       "      <td>inf</td>\n",
       "    </tr>\n",
       "  </tbody>\n",
       "</table>\n",
       "</div>"
      ],
      "text/plain": [
       "            Norm_mean  Tumor_mean  Norm_std  Tumor_std  stdratio\n",
       "0                                                               \n",
       "RF00322     -3.321928   -3.291704       0.0   0.251934       inf\n",
       "AC244098.1  -3.321928   -3.307856       0.0   0.107374       inf\n",
       "AC244098.2  -3.321928   -3.318746       0.0   0.071301       inf\n",
       "RF00322     -3.321928   -3.309756       0.0   0.157456       inf\n",
       "RF00322     -3.321928   -3.317218       0.0   0.105527       inf\n",
       "AC245014.2  -3.321928   -3.316479       0.0   0.093602       inf\n",
       "MIR8065     -3.321928   -3.312143       0.0   0.161781       inf\n",
       "MIR8062     -3.321928   -3.315141       0.0   0.152072       inf\n",
       "AC244102.1  -3.321928   -3.268155       0.0   0.171134       inf\n",
       "RF00019     -3.321928   -3.314554       0.0   0.165215       inf\n",
       "MIR8054     -3.321928   -3.313786       0.0   0.132384       inf\n",
       "MIR7159     -3.321928    -3.30397       0.0   0.215168       inf\n",
       "OR5BB1P     -3.321928   -3.311986       0.0   0.122772       inf\n",
       "RNA5SP332   -3.321928   -3.298044       0.0   0.231514       inf\n",
       "LIN28B-AS1  -3.321928    -3.24726       0.0    0.39591       inf"
      ]
     },
     "execution_count": 215,
     "metadata": {},
     "output_type": "execute_result"
    }
   ],
   "source": [
    "finaldf.sort_values(by=['stdratio'], ascending=False).nlargest(15,'stdratio')"
   ]
  },
  {
   "cell_type": "raw",
   "id": "7b126dde-70ca-4ef6-ba22-5dceb60f92f4",
   "metadata": {},
   "source": [
    "Now some of the stds were zero, which means there were genes that weren't expressed at all for normal cells. These genes can be grouped\n",
    "and we can analyze the rest separately--it may be valuable to know that these were activated in tumor tissue!  \n",
    "\n",
    "Here I attempted a lot of different ways to mask out the rows with Norm_std = 0, with mixed results; for the sake of moving forward, I will simply threshold out Norm_std to include all genes with std > .000001."
   ]
  },
  {
   "cell_type": "code",
   "execution_count": 223,
   "id": "8acab0a7-a10b-447c-9172-c2c5a78d1b26",
   "metadata": {},
   "outputs": [
    {
     "data": {
      "text/html": [
       "<div>\n",
       "<style scoped>\n",
       "    .dataframe tbody tr th:only-of-type {\n",
       "        vertical-align: middle;\n",
       "    }\n",
       "\n",
       "    .dataframe tbody tr th {\n",
       "        vertical-align: top;\n",
       "    }\n",
       "\n",
       "    .dataframe thead th {\n",
       "        text-align: right;\n",
       "    }\n",
       "</style>\n",
       "<table border=\"1\" class=\"dataframe\">\n",
       "  <thead>\n",
       "    <tr style=\"text-align: right;\">\n",
       "      <th></th>\n",
       "      <th>Norm_mean</th>\n",
       "      <th>Tumor_mean</th>\n",
       "      <th>Norm_std</th>\n",
       "      <th>Tumor_std</th>\n",
       "      <th>stdratio</th>\n",
       "    </tr>\n",
       "    <tr>\n",
       "      <th>0</th>\n",
       "      <th></th>\n",
       "      <th></th>\n",
       "      <th></th>\n",
       "      <th></th>\n",
       "      <th></th>\n",
       "    </tr>\n",
       "  </thead>\n",
       "  <tbody>\n",
       "    <tr>\n",
       "      <th>PPP4R3C</th>\n",
       "      <td>-3.321148</td>\n",
       "      <td>-2.891356</td>\n",
       "      <td>0.005458</td>\n",
       "      <td>1.134502</td>\n",
       "      <td>207.872212</td>\n",
       "    </tr>\n",
       "    <tr>\n",
       "      <th>MAGEB1</th>\n",
       "      <td>-3.320944</td>\n",
       "      <td>-2.841155</td>\n",
       "      <td>0.006886</td>\n",
       "      <td>1.319886</td>\n",
       "      <td>191.674045</td>\n",
       "    </tr>\n",
       "    <tr>\n",
       "      <th>AC018470.1</th>\n",
       "      <td>-3.321305</td>\n",
       "      <td>-2.812036</td>\n",
       "      <td>0.00436</td>\n",
       "      <td>0.656009</td>\n",
       "      <td>150.460608</td>\n",
       "    </tr>\n",
       "    <tr>\n",
       "      <th>LINC01193</th>\n",
       "      <td>-3.320667</td>\n",
       "      <td>-3.183747</td>\n",
       "      <td>0.00635</td>\n",
       "      <td>0.550104</td>\n",
       "      <td>86.626876</td>\n",
       "    </tr>\n",
       "    <tr>\n",
       "      <th>PABPC1L2A</th>\n",
       "      <td>-3.321061</td>\n",
       "      <td>-3.102168</td>\n",
       "      <td>0.006073</td>\n",
       "      <td>0.524734</td>\n",
       "      <td>86.40241</td>\n",
       "    </tr>\n",
       "    <tr>\n",
       "      <th>LINC02484</th>\n",
       "      <td>-3.320001</td>\n",
       "      <td>-2.86833</td>\n",
       "      <td>0.01349</td>\n",
       "      <td>1.133005</td>\n",
       "      <td>83.989407</td>\n",
       "    </tr>\n",
       "    <tr>\n",
       "      <th>PRDM9</th>\n",
       "      <td>-3.320595</td>\n",
       "      <td>-3.08666</td>\n",
       "      <td>0.006567</td>\n",
       "      <td>0.542434</td>\n",
       "      <td>82.593988</td>\n",
       "    </tr>\n",
       "    <tr>\n",
       "      <th>FP325330.3</th>\n",
       "      <td>-3.32059</td>\n",
       "      <td>-2.90686</td>\n",
       "      <td>0.00531</td>\n",
       "      <td>0.413698</td>\n",
       "      <td>77.908968</td>\n",
       "    </tr>\n",
       "    <tr>\n",
       "      <th>LINC01043</th>\n",
       "      <td>-3.321593</td>\n",
       "      <td>-3.292012</td>\n",
       "      <td>0.002342</td>\n",
       "      <td>0.17648</td>\n",
       "      <td>75.344457</td>\n",
       "    </tr>\n",
       "    <tr>\n",
       "      <th>PSG6</th>\n",
       "      <td>-3.321039</td>\n",
       "      <td>-3.217409</td>\n",
       "      <td>0.006227</td>\n",
       "      <td>0.458919</td>\n",
       "      <td>73.700544</td>\n",
       "    </tr>\n",
       "    <tr>\n",
       "      <th>BAGE2</th>\n",
       "      <td>-3.317839</td>\n",
       "      <td>-2.783089</td>\n",
       "      <td>0.016401</td>\n",
       "      <td>1.153336</td>\n",
       "      <td>70.320953</td>\n",
       "    </tr>\n",
       "    <tr>\n",
       "      <th>LINC01297</th>\n",
       "      <td>-3.319902</td>\n",
       "      <td>-3.018214</td>\n",
       "      <td>0.010024</td>\n",
       "      <td>0.695584</td>\n",
       "      <td>69.388913</td>\n",
       "    </tr>\n",
       "    <tr>\n",
       "      <th>AC069061.2</th>\n",
       "      <td>-3.318869</td>\n",
       "      <td>-2.597613</td>\n",
       "      <td>0.021413</td>\n",
       "      <td>1.480483</td>\n",
       "      <td>69.138086</td>\n",
       "    </tr>\n",
       "    <tr>\n",
       "      <th>LINC01608</th>\n",
       "      <td>-3.319419</td>\n",
       "      <td>-2.883461</td>\n",
       "      <td>0.017565</td>\n",
       "      <td>1.211</td>\n",
       "      <td>68.94541</td>\n",
       "    </tr>\n",
       "    <tr>\n",
       "      <th>MAGEA9</th>\n",
       "      <td>-3.31585</td>\n",
       "      <td>-2.422264</td>\n",
       "      <td>0.024118</td>\n",
       "      <td>1.644708</td>\n",
       "      <td>68.195605</td>\n",
       "    </tr>\n",
       "  </tbody>\n",
       "</table>\n",
       "</div>"
      ],
      "text/plain": [
       "            Norm_mean  Tumor_mean  Norm_std  Tumor_std    stdratio\n",
       "0                                                                 \n",
       "PPP4R3C     -3.321148   -2.891356  0.005458   1.134502  207.872212\n",
       "MAGEB1      -3.320944   -2.841155  0.006886   1.319886  191.674045\n",
       "AC018470.1  -3.321305   -2.812036   0.00436   0.656009  150.460608\n",
       "LINC01193   -3.320667   -3.183747   0.00635   0.550104   86.626876\n",
       "PABPC1L2A   -3.321061   -3.102168  0.006073   0.524734    86.40241\n",
       "LINC02484   -3.320001    -2.86833   0.01349   1.133005   83.989407\n",
       "PRDM9       -3.320595    -3.08666  0.006567   0.542434   82.593988\n",
       "FP325330.3   -3.32059    -2.90686   0.00531   0.413698   77.908968\n",
       "LINC01043   -3.321593   -3.292012  0.002342    0.17648   75.344457\n",
       "PSG6        -3.321039   -3.217409  0.006227   0.458919   73.700544\n",
       "BAGE2       -3.317839   -2.783089  0.016401   1.153336   70.320953\n",
       "LINC01297   -3.319902   -3.018214  0.010024   0.695584   69.388913\n",
       "AC069061.2  -3.318869   -2.597613  0.021413   1.480483   69.138086\n",
       "LINC01608   -3.319419   -2.883461  0.017565      1.211    68.94541\n",
       "MAGEA9       -3.31585   -2.422264  0.024118   1.644708   68.195605"
      ]
     },
     "execution_count": 223,
     "metadata": {},
     "output_type": "execute_result"
    }
   ],
   "source": [
    "filtered_final = finaldf[finaldf['Norm_std'] > 1e-6]  # this is nice because std is never negative!\n",
    "filtered_final.sort_values(by=['stdratio'], ascending=False).nlargest(15,'stdratio')"
   ]
  },
  {
   "cell_type": "raw",
   "id": "4d84e095-415c-4612-ad27-a92bed974809",
   "metadata": {},
   "source": [
    "The second gene on the list, MAGEB1, is associated with melanoma!  PPP4R3C is involved in DNA response. \n",
    "\n",
    "Aberrant expression of PRDM9 is associated with genomic instability in cancers!\n",
    "\n",
    "I think we are on to something, after only a short look at a few of these genes.\n",
    "\n",
    "Certain LincRNAs are upregulated in 13 cancers--above we see a number of them strongly upregulated, e.g, LINC02484.  See also 'The functions and unique features of long intergenic non-coding RNA'\n",
    "Julia D. Ransohoff,1 Yuning Wei,1 and Paul A. Khavari1,2  in Nat Rev Mol Cell Biol. Author manuscript; available in PMC 2018 Apr 6.\n",
    "Published in final edited form as:\n",
    "Nat Rev Mol Cell Biol. 2018 Mar; 19(3): 143–157.\n",
    "Published online 2017 Nov 15. doi: 10.1038/nrm.2017.104\n",
    "\n",
    "While this is interesting--there is so much more to discover here!"
   ]
  },
  {
   "cell_type": "markdown",
   "id": "7ea359b8-5d2c-43be-b44b-f1838d9c6a4e",
   "metadata": {},
   "source": [
    "## Summary and conclusions"
   ]
  },
  {
   "cell_type": "raw",
   "id": "9395dc93-e5c4-4c14-9e46-ba5a7e41ab3e",
   "metadata": {},
   "source": [
    "At first glance we can see some strong differences in expression variance between normal and tumor genes; that said, we have some 57000 genes in the dataset, and while we have gene names, we don't have functions.  Adding some information on gene function would be a further step toward understanding what may be actually significant versus random noise.  Recall that, by conservative estimates, 51.8% of the human genome is transcribed, but only 1.2% encodes proteins!  As a path forward, while it is interesting to note what is going on with LINCrnas and other non-protein coding RNAs, it may help from an analysis standpoint to narrow the array data to protein-coding genes only.  That would help to bring the size of the dataset down to approximately 684 genes, which would help with the problem of overfitting, if we later build a model to predict healthy vs cancer or if we try to isolate oncogenes.  \n",
    "\n",
    "Next steps would be to attempt to downselect for protein-encoding genes, then further downselect the top 25 up- or down-regulated genes, and see if these alone can predict tumor vs normal.  (We can also compare sets with and without *known* oncogenes or tumor suppressor genes as predictors).\n",
    "\n",
    "There appears to be some promise in further investigation, for both oncogene discovery, and predicting disease state!"
   ]
  }
 ],
 "metadata": {
  "kernelspec": {
   "display_name": "Python 3 (ipykernel)",
   "language": "python",
   "name": "python3"
  },
  "language_info": {
   "codemirror_mode": {
    "name": "ipython",
    "version": 3
   },
   "file_extension": ".py",
   "mimetype": "text/x-python",
   "name": "python",
   "nbconvert_exporter": "python",
   "pygments_lexer": "ipython3",
   "version": "3.11.9"
  }
 },
 "nbformat": 4,
 "nbformat_minor": 5
}
